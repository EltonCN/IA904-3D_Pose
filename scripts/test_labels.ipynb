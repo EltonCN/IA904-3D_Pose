{
 "cells": [
  {
   "cell_type": "code",
   "execution_count": 1,
   "metadata": {},
   "outputs": [
    {
     "name": "stdout",
     "output_type": "stream",
     "text": [
      "Loads checkpoint by http backend from path: https://download.openmmlab.com/mmpose/v1/projects/rtmposev1/rtmpose-m_simcc-body7_pt-body7_420e-256x192-e48f03d0_20230504.pth\n",
      "06/23 16:46:26 - mmengine - \u001b[5m\u001b[4m\u001b[33mWARNING\u001b[0m - Failed to search registry with scope \"mmpose\" in the \"function\" registry tree. As a workaround, the current \"function\" registry in \"mmengine\" is used to build instance. This may cause unexpected failure when running the built modules. Please check whether \"mmpose\" is a correct scope, or whether the registry is initialized.\n",
      "Loads checkpoint by http backend from path: https://download.openmmlab.com/mmpose/v1/projects/rtmposev1/rtmdet_m_8xb32-100e_coco-obj365-person-235e8209.pth\n",
      "06/23 16:46:29 - mmengine - \u001b[5m\u001b[4m\u001b[33mWARNING\u001b[0m - Failed to search registry with scope \"mmdet\" in the \"function\" registry tree. As a workaround, the current \"function\" registry in \"mmengine\" is used to build instance. This may cause unexpected failure when running the built modules. Please check whether \"mmdet\" is a correct scope, or whether the registry is initialized.\n"
     ]
    },
    {
     "name": "stderr",
     "output_type": "stream",
     "text": [
      "c:\\Python38\\lib\\site-packages\\torch\\functional.py:507: UserWarning: torch.meshgrid: in an upcoming release, it will be required to pass the indexing argument. (Triggered internally at C:\\actions-runner\\_work\\pytorch\\pytorch\\builder\\windows\\pytorch\\aten\\src\\ATen\\native\\TensorShape.cpp:3550.)\n",
      "  return _VF.meshgrid(tensors, **kwargs)  # type: ignore[attr-defined]\n"
     ]
    }
   ],
   "source": [
    "from mmpose.apis import MMPoseInferencer\n",
    "\n",
    "img_path = 'test_image.jpg'   # replace this with your own image path\n",
    "\n",
    "# instantiate the inferencer using the model alias\n",
    "inferencer = MMPoseInferencer('human')\n",
    "\n",
    "# The MMPoseInferencer API employs a lazy inference approach,\n",
    "# creating a prediction generator when given input\n",
    "result_generator = inferencer(img_path, show=True)\n",
    "result = next(result_generator)"
   ]
  },
  {
   "cell_type": "code",
   "execution_count": 14,
   "metadata": {},
   "outputs": [],
   "source": [
    "import glob #Search files\n",
    "import json #JSON write\n",
    "import pathlib #Path things\n",
    "import os #Path things\n",
    "import warnings #Modified call\n",
    "from concurrent.futures import ThreadPoolExecutor #Threading\n",
    "from types import MethodType #Modified call\n",
    "from typing import Optional #Modified call\n",
    "\n",
    "import numpy as np #Array operations\n",
    "import imageio #EXR write\n",
    "import tqdm #Progress bar\n",
    "from rich.progress import track #Modified call\n",
    "import mmpose #Feature extractor\n",
    "from mmpose.apis import MMPoseInferencer #Feature extractor\n",
    "import matplotlib.pyplot as plt"
   ]
  },
  {
   "cell_type": "code",
   "execution_count": 3,
   "metadata": {},
   "outputs": [],
   "source": [
    "#Base from MMPoseInferencer.__call__\n",
    "def modified_call(\n",
    "        self,\n",
    "        inputs: mmpose.apis.inferencers.mmpose_inferencer.InputsType,\n",
    "        return_datasamples: bool = False,\n",
    "        batch_size: int = 1,\n",
    "        out_dir: Optional[str] = None,\n",
    "        **kwargs,\n",
    "    ) -> dict:\n",
    "        \"\"\"Call the inferencer.\n",
    "\n",
    "        Args:\n",
    "            inputs (InputsType): Inputs for the inferencer.\n",
    "            return_datasamples (bool): Whether to return results as\n",
    "                :obj:`BaseDataElement`. Defaults to False.\n",
    "            batch_size (int): Batch size. Defaults to 1.\n",
    "            out_dir (str, optional): directory to save visualization\n",
    "                results and predictions. Will be overoden if vis_out_dir or\n",
    "                pred_out_dir are given. Defaults to None\n",
    "            **kwargs: Key words arguments passed to :meth:`preprocess`,\n",
    "                :meth:`forward`, :meth:`visualize` and :meth:`postprocess`.\n",
    "                Each key in kwargs should be in the corresponding set of\n",
    "                ``preprocess_kwargs``, ``forward_kwargs``,\n",
    "                ``visualize_kwargs`` and ``postprocess_kwargs``.\n",
    "\n",
    "        Returns:\n",
    "            dict: Inference and visualization results.\n",
    "        \"\"\"\n",
    "        if out_dir is not None:\n",
    "            if 'vis_out_dir' not in kwargs:\n",
    "                kwargs['vis_out_dir'] = f'{out_dir}/visualizations'\n",
    "            if 'pred_out_dir' not in kwargs:\n",
    "                kwargs['pred_out_dir'] = f'{out_dir}/predictions'\n",
    "        \n",
    "        kwargs = {\n",
    "            key: value\n",
    "            for key, value in kwargs.items()\n",
    "            if key in set.union(self.inferencer.preprocess_kwargs,\n",
    "                                self.inferencer.forward_kwargs,\n",
    "                                self.inferencer.visualize_kwargs,\n",
    "                                self.inferencer.postprocess_kwargs)\n",
    "        }\n",
    "        (\n",
    "            preprocess_kwargs,\n",
    "            forward_kwargs,\n",
    "            visualize_kwargs,\n",
    "            postprocess_kwargs,\n",
    "        ) = self._dispatch_kwargs(**kwargs)\n",
    "\n",
    "        self.inferencer.update_model_visualizer_settings(**kwargs)\n",
    "\n",
    "        # preprocessing\n",
    "        if isinstance(inputs, str) and inputs.startswith('webcam'):\n",
    "            inputs = self.inferencer._get_webcam_inputs(inputs)\n",
    "            batch_size = 1\n",
    "            if not visualize_kwargs.get('show', False):\n",
    "                warnings.warn('The display mode is closed when using webcam '\n",
    "                              'input. It will be turned on automatically.')\n",
    "            visualize_kwargs['show'] = True\n",
    "        else:\n",
    "            inputs = self.inferencer._inputs_to_list(inputs)\n",
    "        self._video_input = self.inferencer._video_input\n",
    "        if self._video_input:\n",
    "            self.video_info = self.inferencer.video_info\n",
    "\n",
    "        inputs = self.preprocess(\n",
    "            inputs, batch_size=batch_size, **preprocess_kwargs)\n",
    "\n",
    "        # forward\n",
    "        if 'bbox_thr' in self.inferencer.forward_kwargs:\n",
    "            forward_kwargs['bbox_thr'] = preprocess_kwargs.get('bbox_thr', -1)\n",
    "\n",
    "        preds = []\n",
    "\n",
    "        for proc_inputs, ori_inputs in (track(inputs, description='Inference')\n",
    "                                        if self.show_progress else inputs):\n",
    "            preds = self.forward(proc_inputs, **forward_kwargs)\n",
    "\n",
    "            visualization = self.visualize(ori_inputs, preds,\n",
    "                                           **visualize_kwargs)\n",
    "            \n",
    "            results = self.postprocess(\n",
    "                preds,\n",
    "                visualization,\n",
    "                return_datasamples=return_datasamples,\n",
    "                **postprocess_kwargs)\n",
    "            \n",
    "            #MODIFIED START-----------------------------------\n",
    "            if kwargs[\"draw_heatmap\"] is True:\n",
    "                for batch_index in range(len(preds)):\n",
    "                    pred = preds[batch_index]\n",
    "                \n",
    "                    for person_index in range(len(pred.pred_instances)):\n",
    "                        person_pred = pred.pred_instances[person_index]\n",
    "                        \n",
    "                        results[\"predictions\"][batch_index][person_index][\"heatmaps\"] = pred._pred_heatmaps.heatmaps\n",
    "            #MODIFIED END-------------------------------------\n",
    "            \n",
    "            yield results\n",
    "\n",
    "        if self._video_input:\n",
    "            self._finalize_video_processing(\n",
    "                postprocess_kwargs.get('pred_out_dir', ''))"
   ]
  },
  {
   "cell_type": "code",
   "execution_count": 4,
   "metadata": {},
   "outputs": [],
   "source": [
    "inferencer.modified_call = MethodType(modified_call, inferencer)"
   ]
  },
  {
   "cell_type": "code",
   "execution_count": 5,
   "metadata": {},
   "outputs": [],
   "source": [
    "result_generator = inferencer.modified_call(img_path, draw_heatmap=True)"
   ]
  },
  {
   "cell_type": "code",
   "execution_count": 6,
   "metadata": {},
   "outputs": [
    {
     "name": "stderr",
     "output_type": "stream",
     "text": [
      "c:\\Python38\\lib\\site-packages\\mmpose\\models\\heads\\coord_cls_heads\\rtmcc_head.py:217: UserWarning: The predicted simcc values are normalized for visualization. This may cause discrepancy between the keypoint scores and the 1D heatmaps.\n",
      "  warnings.warn('The predicted simcc values are normalized for '\n"
     ]
    }
   ],
   "source": [
    "result = next(result_generator)"
   ]
  },
  {
   "cell_type": "code",
   "execution_count": 13,
   "metadata": {},
   "outputs": [],
   "source": [
    "heatmaps = result[\"predictions\"][0][0][\"heatmaps\"]"
   ]
  },
  {
   "cell_type": "code",
   "execution_count": 21,
   "metadata": {},
   "outputs": [
    {
     "data": {
      "text/plain": [
       "<matplotlib.image.AxesImage at 0x2552b380d30>"
      ]
     },
     "execution_count": 21,
     "metadata": {},
     "output_type": "execute_result"
    },
    {
     "data": {
      "image/png": "[encoded data removed]",
      "text/plain": [
       "<Figure size 432x288 with 1 Axes>"
      ]
     },
     "metadata": {
      "needs_background": "light"
     },
     "output_type": "display_data"
    }
   ],
   "source": [
    "plt.imshow(heatmaps[16])"
   ]
  },
  {
   "cell_type": "code",
   "execution_count": 43,
   "metadata": {},
   "outputs": [],
   "source": [
    "coco2unity =   {\"nose\": 87, #nose\n",
    "               \"left_eye\": 80, #eye_left\n",
    "               \"right_eye\": 81, #eye_right\n",
    "               \"left_ear\": 85, #ear_left\n",
    "               \"right_ear\": 86, #ear_right\n",
    "               \"left_shoulder\": 21, #shoulder_left\n",
    "               \"right_shoulder\": 50, #shoulder_right\n",
    "               \"left_elbow\": 22, #elbow_left\n",
    "               \"right_elbow\": 51, #elbow_right\n",
    "               \"left_wrist\": 25, #wrist_left\n",
    "               \"right_wrist\": 54, #wrist_right\n",
    "               \"left_hip\": 88, #hip_left\n",
    "               \"right_hip\": 89, #hip_right\n",
    "               \"left_knee\": 2, #knee_left\n",
    "               \"right_knee\": 10, #knee_right\n",
    "               \"left_ankle\": 4, #ankle_left\n",
    "               \"right_ankle\": 12, #ankle_right\n",
    "            }\n"
   ]
  },
  {
   "cell_type": "code",
   "execution_count": 44,
   "metadata": {},
   "outputs": [],
   "source": [
    "unity_labels = ['hip',\n",
    " 'leg_left',\n",
    " 'knee_left',\n",
    " 'accessories_ankle_left',\n",
    " 'ankle_left',\n",
    " 'foot_left',\n",
    " 'toes_left',\n",
    " 'lower_leg_left',\n",
    " 'upper_leg_left',\n",
    " 'leg_right',\n",
    " 'knee_right',\n",
    " 'accessories_ankle_right',\n",
    " 'ankle_right',\n",
    " 'foot_right',\n",
    " 'toes_right',\n",
    " 'lower_leg_right',\n",
    " 'upper_leg_right',\n",
    " 'spine_01',\n",
    " 'spine_02',\n",
    " 'spine_03',\n",
    " 'clavicle_left',\n",
    " 'shoulder_left',\n",
    " 'elbow_left',\n",
    " 'accessories_wrist_left',\n",
    " 'lower_arm_left',\n",
    " 'wrist_left',\n",
    " 'index_01_left',\n",
    " 'index_02_left',\n",
    " 'index_03_left',\n",
    " 'index_04_left',\n",
    " 'middle_01_left',\n",
    " 'middle_02_left',\n",
    " 'middle_03_left',\n",
    " 'middle_04_left',\n",
    " 'palm_left',\n",
    " 'pinky_01_left',\n",
    " 'pinky_02_left',\n",
    " 'pinky_03_left',\n",
    " 'pinky_04_left',\n",
    " 'ring_01_left',\n",
    " 'ring_02_left',\n",
    " 'ring_0',\n",
    " 'ring_03_left',\n",
    " 'ring_04_left',\n",
    " 'thumb_01_left',\n",
    " 'thumb_02_left',\n",
    " 'thumb_03_left',\n",
    " 'thumb_04_left',\n",
    " 'upper_arm_left',\n",
    " 'clavicle_right',\n",
    " 'shoulder_right',\n",
    " 'elbow_right',\n",
    " 'accessories_wrist_right',\n",
    " 'lower_arm_right',\n",
    " 'wrist_right',\n",
    " 'index_01_right',\n",
    " 'index_02_right',\n",
    " 'index_03_right',\n",
    " 'index_04_right',\n",
    " 'middle_01_right',\n",
    " 'middle_02_right',\n",
    " 'middle_03_right',\n",
    " 'middle_04_right',\n",
    " 'palm_right',\n",
    " 'pinky_01_right',\n",
    " 'pinky_02_right',\n",
    " 'pinky_03_right',\n",
    " 'pinky_04_right',\n",
    " 'ring_01_right',\n",
    " 'ring_02_right',\n",
    " 'ring_03_right',\n",
    " 'ring_04_right',\n",
    " 'thumb_01_right',\n",
    " 'thumb_02_right',\n",
    " 'thumb_03_right',\n",
    " 'thumb_04_right',\n",
    " 'upper_arm_right',\n",
    " 'neck',\n",
    " 'head',\n",
    " 'accessories_radix_nose',\n",
    " 'eye_left',\n",
    " 'eye_right',\n",
    " 'head_end',\n",
    " 'jaw',\n",
    " 'jaw_end',\n",
    " 'ear_left',\n",
    " 'ear_right',\n",
    " 'nose',\n",
    " 'hip_left',\n",
    " 'hip_right']"
   ]
  },
  {
   "cell_type": "code",
   "execution_count": 45,
   "metadata": {},
   "outputs": [
    {
     "name": "stdout",
     "output_type": "stream",
     "text": [
      "nose nose\n",
      "left_eye eye_left\n",
      "right_eye eye_right\n",
      "left_ear ear_left\n",
      "right_ear ear_right\n",
      "left_shoulder shoulder_left\n",
      "right_shoulder shoulder_right\n",
      "left_elbow elbow_left\n",
      "right_elbow elbow_right\n",
      "left_wrist wrist_left\n",
      "right_wrist wrist_right\n",
      "left_hip hip_left\n",
      "right_hip hip_right\n",
      "left_knee knee_left\n",
      "right_knee knee_right\n",
      "left_ankle ankle_left\n",
      "right_ankle ankle_right\n"
     ]
    }
   ],
   "source": [
    "for coco_label in coco2unity:\n",
    "    unity_index = coco2unity[coco_label]\n",
    "    unity_label = unity_labels[unity_index]\n",
    "\n",
    "    print(coco_label, unity_label)"
   ]
  },
  {
   "cell_type": "code",
   "execution_count": null,
   "metadata": {},
   "outputs": [],
   "source": []
  }
 ],
 "metadata": {
  "kernelspec": {
   "display_name": "Python 3",
   "language": "python",
   "name": "python3"
  },
  "language_info": {
   "codemirror_mode": {
    "name": "ipython",
    "version": 3
   },
   "file_extension": ".py",
   "mimetype": "text/x-python",
   "name": "python",
   "nbconvert_exporter": "python",
   "pygments_lexer": "ipython3",
   "version": "3.8.5"
  }
 },
 "nbformat": 4,
 "nbformat_minor": 2
}
