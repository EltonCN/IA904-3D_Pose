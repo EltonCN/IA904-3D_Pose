{
 "cells": [
  {
   "cell_type": "code",
   "execution_count": 1,
   "metadata": {},
   "outputs": [],
   "source": [
    "import json\n",
    "import glob #Search files\n",
    "import re\n",
    "import os #Path things\n",
    "import pickle\n",
    "\n",
    "import numpy as np\n",
    "from scipy.spatial.transform import Rotation"
   ]
  },
  {
   "cell_type": "code",
   "execution_count": 2,
   "metadata": {},
   "outputs": [],
   "source": [
    "dataset_path = os.environ[\"USERPROFILE\"]+\"\\\\AppData\\\\LocalLow\\\\DefaultCompany\\\\IA904-3D_Pose\\\\solo\"\n",
    "dataset_path = \"I:\\\\.shortcut-targets-by-id\\\\1S6q0nt4z5LYa-5VkpC8qxag2b_jjO6e9\\\\IA904\\\\Dataset\""
   ]
  },
  {
   "cell_type": "code",
   "execution_count": 3,
   "metadata": {},
   "outputs": [],
   "source": [
    "search_pattern = dataset_path+\"\\\\**\\\\*frame_data.json\"\n",
    "frame_data_paths = glob.glob(search_pattern, recursive=True)"
   ]
  },
  {
   "cell_type": "code",
   "execution_count": 4,
   "metadata": {},
   "outputs": [],
   "source": [
    "scenario_regex = re.compile(\"\\\\\\\\Scenario[0-9]\\\\\\\\\")"
   ]
  },
  {
   "cell_type": "code",
   "execution_count": 5,
   "metadata": {},
   "outputs": [],
   "source": [
    "keypoint_type_3d = \"type.unity.com/unity.solo.Keypoint3dAnnotation\"\n",
    "keypoint_type_2d = \"type.unity.com/unity.solo.KeypointAnnotation\"\n",
    "\n",
    "camera_id_left = \"camera_left\"\n",
    "camera_id_right = \"camera_right\"\n",
    "camera_id_center = \"camera_center\"\n",
    "\n",
    "camera_ids = [camera_id_left, camera_id_right, camera_id_center]"
   ]
  },
  {
   "cell_type": "code",
   "execution_count": 6,
   "metadata": {},
   "outputs": [],
   "source": [
    "labels = ['hip',\n",
    " 'leg_left',\n",
    " 'knee_left',\n",
    " 'accessories_ankle_left',\n",
    " 'ankle_left',\n",
    " 'foot_left',\n",
    " 'toes_left',\n",
    " 'lower_leg_left',\n",
    " 'upper_leg_left',\n",
    " 'leg_right',\n",
    " 'knee_right',\n",
    " 'accessories_ankle_right',\n",
    " 'ankle_right',\n",
    " 'foot_right',\n",
    " 'toes_right',\n",
    " 'lower_leg_right',\n",
    " 'upper_leg_right',\n",
    " 'spine_01',\n",
    " 'spine_02',\n",
    " 'spine_03',\n",
    " 'clavicle_left',\n",
    " 'shoulder_left',\n",
    " 'elbow_left',\n",
    " 'accessories_wrist_left',\n",
    " 'lower_arm_left',\n",
    " 'wrist_left',\n",
    " 'index_01_left',\n",
    " 'index_02_left',\n",
    " 'index_03_left',\n",
    " 'index_04_left',\n",
    " 'middle_01_left',\n",
    " 'middle_02_left',\n",
    " 'middle_03_left',\n",
    " 'middle_04_left',\n",
    " 'palm_left',\n",
    " 'pinky_01_left',\n",
    " 'pinky_02_left',\n",
    " 'pinky_03_left',\n",
    " 'pinky_04_left',\n",
    " 'ring_01_left',\n",
    " 'ring_02_left',\n",
    " 'ring_0',\n",
    " 'ring_03_left',\n",
    " 'ring_04_left',\n",
    " 'thumb_01_left',\n",
    " 'thumb_02_left',\n",
    " 'thumb_03_left',\n",
    " 'thumb_04_left',\n",
    " 'upper_arm_left',\n",
    " 'clavicle_right',\n",
    " 'shoulder_right',\n",
    " 'elbow_right',\n",
    " 'accessories_wrist_right',\n",
    " 'lower_arm_right',\n",
    " 'wrist_right',\n",
    " 'index_01_right',\n",
    " 'index_02_right',\n",
    " 'index_03_right',\n",
    " 'index_04_right',\n",
    " 'middle_01_right',\n",
    " 'middle_02_right',\n",
    " 'middle_03_right',\n",
    " 'middle_04_right',\n",
    " 'palm_right',\n",
    " 'pinky_01_right',\n",
    " 'pinky_02_right',\n",
    " 'pinky_03_right',\n",
    " 'pinky_04_right',\n",
    " 'ring_01_right',\n",
    " 'ring_02_right',\n",
    " 'ring_03_right',\n",
    " 'ring_04_right',\n",
    " 'thumb_01_right',\n",
    " 'thumb_02_right',\n",
    " 'thumb_03_right',\n",
    " 'thumb_04_right',\n",
    " 'upper_arm_right',\n",
    " 'neck',\n",
    " 'head',\n",
    " 'accessories_radix_nose',\n",
    " 'eye_left',\n",
    " 'eye_right',\n",
    " 'head_end',\n",
    " 'jaw',\n",
    " 'jaw_end',\n",
    " 'ear_left',\n",
    " 'ear_right',\n",
    " 'nose',\n",
    " 'hip_left',\n",
    " 'hip_right']\n",
    "\n",
    "label_to_index = {labels[i]:i for i in range(len(labels))}"
   ]
  },
  {
   "cell_type": "code",
   "execution_count": 7,
   "metadata": {},
   "outputs": [],
   "source": [
    "dataset_index = []\n",
    "\n",
    "for file_path in frame_data_paths:\n",
    "    with open(file_path) as file:\n",
    "        frame_data = json.load(file)\n",
    "\n",
    "    scenario = int(scenario_regex.findall(file_path)[0].split(\"\\\\Scenario\")[1].split(\"\\\\\")[0])\n",
    "    sequence = frame_data[\"sequence\"]\n",
    "    step = frame_data[\"step\"]\n",
    "\n",
    "    has_keypoints = False\n",
    "    keypoints_3d = np.full((len(labels), 3), np.nan, np.float32)\n",
    "\n",
    "    transformation = np.zeros((4,4), np.float32)\n",
    "    transformation[3,3] = 1\n",
    "\n",
    "    for capture in frame_data[\"captures\"]:\n",
    "\n",
    "        if capture[\"id\"] == camera_id_center:\n",
    "            rotation = capture[\"rotation\"]\n",
    "            rotation = Rotation.from_quat(rotation)\n",
    "            rotation = rotation.as_matrix()\n",
    "\n",
    "            transformation[:3,:3] = rotation\n",
    "\n",
    "            position = capture[\"position\"]\n",
    "\n",
    "            transformation[:3,3] = position\n",
    "\n",
    "\n",
    "        for annotation in capture[\"annotations\"]:\n",
    "            if annotation[\"@type\"] == keypoint_type_3d:\n",
    "                has_keypoints = True\n",
    "\n",
    "                for keypoint in annotation[\"keypoints\"][0][\"keypoints\"]:\n",
    "                    label = keypoint[\"label\"]\n",
    "                    index = label_to_index[label]\n",
    "                    keypoints_3d[index] = keypoint[\"location\"]\n",
    "    \n",
    "    #World to camera\n",
    "    transformation_w2c = np.linalg.inv(transformation)\n",
    "\n",
    "    if not has_keypoints:\n",
    "        continue\n",
    "    \n",
    "    position = np.empty(4)\n",
    "    position[3] = 1\n",
    "    for i in range(len(labels)):\n",
    "        position[:3] = keypoints_3d[i]\n",
    "        \n",
    "        position_camera = transformation_w2c@position\n",
    "\n",
    "        keypoints_3d[i] = position_camera[:3]\n",
    "\n",
    "    data = {\"scenario\":scenario, \n",
    "            \"sequence\":sequence, \n",
    "            \"step\":step, \n",
    "            \"keypoints_3d\":keypoints_3d}\n",
    "\n",
    "    dataset_index.append(data)\n",
    "\n"
   ]
  },
  {
   "cell_type": "code",
   "execution_count": 8,
   "metadata": {},
   "outputs": [],
   "source": [
    "index_path = os.path.join(dataset_path, \"index.pickle\")\n",
    "file = open(index_path, \"wb\")\n",
    "pickle.dump(dataset_index, file)\n",
    "file.close()"
   ]
  },
  {
   "cell_type": "code",
   "execution_count": 9,
   "metadata": {},
   "outputs": [
    {
     "data": {
      "text/plain": [
       "6400"
      ]
     },
     "execution_count": 9,
     "metadata": {},
     "output_type": "execute_result"
    }
   ],
   "source": [
    "len(dataset_index)"
   ]
  }
 ],
 "metadata": {
  "kernelspec": {
   "display_name": "Python 3",
   "language": "python",
   "name": "python3"
  },
  "language_info": {
   "codemirror_mode": {
    "name": "ipython",
    "version": 3
   },
   "file_extension": ".py",
   "mimetype": "text/x-python",
   "name": "python",
   "nbconvert_exporter": "python",
   "pygments_lexer": "ipython3",
   "version": "3.8.5"
  }
 },
 "nbformat": 4,
 "nbformat_minor": 2
}
