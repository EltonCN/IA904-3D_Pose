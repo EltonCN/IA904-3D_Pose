{
 "cells": [
  {
   "cell_type": "code",
   "execution_count": 2,
   "metadata": {},
   "outputs": [],
   "source": [
    "from __future__ import annotations\n",
    "\n",
    "import json\n",
    "import glob #Search files\n",
    "import re\n",
    "import os #Path things\n",
    "import pickle\n",
    "from typing import Tuple\n",
    "\n",
    "import tqdm\n",
    "import numpy as np\n",
    "import pandas as pd\n",
    "import matplotlib.pyplot as plt\n",
    "import torch\n",
    "from torch.utils.data import Dataset, DataLoader, random_split\n",
    "\n",
    "from dataloader_wrapper import DataloaderWrapper"
   ]
  },
  {
   "cell_type": "code",
   "execution_count": 21,
   "metadata": {},
   "outputs": [],
   "source": [
    "import torch\n",
    "import numpy as np\n",
    "\n",
    "class ConvBlock(torch.nn.Module):\n",
    "    def __init__(self, input_img_size, input_channels, output_channels, dropout_rate) -> None:\n",
    "        super().__init__()\n",
    "\n",
    "        self._conv = torch.nn.Conv2d(input_channels, output_channels, kernel_size=(3,3), stride=1, padding=1)\n",
    "        self._dropout = torch.nn.Dropout(dropout_rate)\n",
    "        self._relu = torch.nn.ReLU()\n",
    "        #self._max_pool = torch.nn.MaxPool2d(kernel_size=(2,2))\n",
    "        self._batch_norm = torch.nn.BatchNorm2d(output_channels)\n",
    "        \n",
    "        self._conv1 = torch.nn.Conv2d(input_channels, output_channels, kernel_size=1)\n",
    "\n",
    "        self._output_channels = output_channels\n",
    "\n",
    "        self._output_img_size = input_img_size\n",
    "        \n",
    "        #Conv\n",
    "        self._output_img_size[0] = ((self._output_img_size[0] + (2*1) - 1* (3-1)-1)/1)+1\n",
    "        self._output_img_size[1] = ((self._output_img_size[1] + (2*1) - 1* (3-1)-1)/1)+1\n",
    "\n",
    "        #Max pool\n",
    "        #self._output_img_size[0] = ((self._output_img_size[0] + (2*0) - 1* (2-1)-1)/2)+1\n",
    "        #self._output_img_size[1] = ((self._output_img_size[1] + (2*0) - 1* (2-1)-1)/2)+1\n",
    "\n",
    "    def forward(self, x):\n",
    "        y1 = self._conv(x)\n",
    "        y1 = self._dropout(y1)\n",
    "        y1 = self._relu(y1)\n",
    "        #y1 = self._max_pool(y1)\n",
    "\n",
    "        y2 = self._conv1(x)\n",
    "\n",
    "        y = y1+y2\n",
    "\n",
    "        y = self._batch_norm(y)\n",
    "\n",
    "        return y"
   ]
  },
  {
   "cell_type": "code",
   "execution_count": 22,
   "metadata": {},
   "outputs": [],
   "source": [
    "conv_block = ConvBlock([32, 32], 3, 20, 0.1)"
   ]
  },
  {
   "cell_type": "code",
   "execution_count": 23,
   "metadata": {},
   "outputs": [],
   "source": [
    "x = torch.empty((1, 32, 32, 3))\n",
    "x_torch = x.permute(0, 3, 1, 2)"
   ]
  },
  {
   "cell_type": "code",
   "execution_count": 24,
   "metadata": {},
   "outputs": [],
   "source": [
    "y = conv_block(x_torch)"
   ]
  },
  {
   "cell_type": "code",
   "execution_count": 25,
   "metadata": {},
   "outputs": [
    {
     "data": {
      "text/plain": [
       "(torch.Size([1, 3, 32, 32]), torch.Size([1, 20, 32, 32]))"
      ]
     },
     "execution_count": 25,
     "metadata": {},
     "output_type": "execute_result"
    }
   ],
   "source": [
    "x_torch.shape, y.shape"
   ]
  },
  {
   "cell_type": "code",
   "execution_count": 28,
   "metadata": {},
   "outputs": [
    {
     "data": {
      "text/plain": [
       "(20, [32.0, 32.0])"
      ]
     },
     "execution_count": 28,
     "metadata": {},
     "output_type": "execute_result"
    }
   ],
   "source": [
    "conv_block._output_channels, conv_block._output_img_size"
   ]
  },
  {
   "cell_type": "markdown",
   "metadata": {},
   "source": [
    "## Dataset"
   ]
  },
  {
   "cell_type": "code",
   "execution_count": 2,
   "metadata": {},
   "outputs": [],
   "source": [
    "dataset_path = os.environ[\"USERPROFILE\"]+\"\\\\AppData\\\\LocalLow\\\\DefaultCompany\\\\IA904-3D_Pose\\\\solo\"\n",
    "dataset_path = \"I:\\\\.shortcut-targets-by-id\\\\1S6q0nt4z5LYa-5VkpC8qxag2b_jjO6e9\\\\IA904\\\\Dataset\""
   ]
  },
  {
   "cell_type": "code",
   "execution_count": 3,
   "metadata": {},
   "outputs": [],
   "source": [
    "features_dataset_path = os.path.join(dataset_path, \"extracted_features\")\n",
    "index_path = os.path.join(dataset_path, \"index.pickle\")"
   ]
  },
  {
   "cell_type": "code",
   "execution_count": 4,
   "metadata": {},
   "outputs": [],
   "source": [
    "with open(index_path, \"rb\") as index_file:\n",
    "    dataset_index = pickle.load(index_file)"
   ]
  },
  {
   "cell_type": "code",
   "execution_count": 5,
   "metadata": {},
   "outputs": [],
   "source": [
    "dataset_index = pd.DataFrame(dataset_index)"
   ]
  },
  {
   "cell_type": "code",
   "execution_count": 6,
   "metadata": {},
   "outputs": [],
   "source": [
    "coco2unity =   {\"nose\": 87, #nose\n",
    "               \"left_eye\": 80, #eye_left\n",
    "               \"right_eye\": 81, #eye_right\n",
    "               \"left_ear\": 85, #ear_left\n",
    "               \"right_ear\": 86, #ear_right\n",
    "               \"left_shoulder\": 21, #shoulder_left\n",
    "               \"right_shoulder\": 50, #shoulder_right\n",
    "               \"left_elbow\": 22, #elbow_left\n",
    "               \"right_elbow\": 51, #elbow_right\n",
    "               \"left_wrist\": 25, #wrist_left\n",
    "               \"right_wrist\": 54, #wrist_right\n",
    "               \"left_hip\": 88, #hip_left\n",
    "               \"right_hip\": 89, #hip_right\n",
    "               \"left_knee\": 2, #knee_left\n",
    "               \"right_knee\": 10, #knee_right\n",
    "               \"left_ankle\": 4, #ankle_left\n",
    "               \"right_ankle\": 12, #ankle_right\n",
    "            }"
   ]
  },
  {
   "cell_type": "code",
   "execution_count": 7,
   "metadata": {},
   "outputs": [],
   "source": [
    "interest_indexes = list(coco2unity.values())"
   ]
  },
  {
   "cell_type": "code",
   "execution_count": 8,
   "metadata": {},
   "outputs": [
    {
     "data": {
      "text/plain": [
       "0"
      ]
     },
     "execution_count": 8,
     "metadata": {},
     "output_type": "execute_result"
    }
   ],
   "source": [
    "nan_count = 0\n",
    "for i in range(len(dataset_index)):\n",
    "    nan_count += np.isnan(dataset_index[\"keypoints_3d\"][0][interest_indexes]).sum()\n",
    "\n",
    "nan_count"
   ]
  },
  {
   "cell_type": "code",
   "execution_count": 9,
   "metadata": {},
   "outputs": [],
   "source": [
    "class SyntheticOAKDDataset(Dataset):\n",
    "    def __init__(self, dataset_index:pd.DataFrame, \n",
    "                 keypoint_mapping : dict[str, int], \n",
    "                 scenarios:list[int]) -> None:\n",
    "        super().__init__()\n",
    "\n",
    "        self._dataset_index = dataset_index\n",
    "        self._keypoint_mapping = keypoint_mapping\n",
    "        self._keypoint_indexes = list(keypoint_mapping.values())\n",
    "        self._scenarios = scenarios\n",
    "\n",
    "        self._n_keypoint_per_image = len(keypoint_mapping)\n",
    "\n",
    "        n_sample = 0\n",
    "        n_sample = []\n",
    "        for scenario in scenarios:\n",
    "            n_sample.append((dataset_index[\"scenario\"] == scenario).sum())\n",
    "\n",
    "        self._n_sample = np.array(n_sample)\n",
    "        self._n_sample_cumsum = np.cumsum(n_sample)\n",
    "\n",
    "    def __len__(self) -> int:\n",
    "        return self._n_sample.sum()\n",
    "    \n",
    "    def __getitem__(self, index) -> Tuple[torch.Tensor, torch.Tensor]:\n",
    "        img_index = index // self._n_keypoint_per_image\n",
    "        keypoint_index = index % self._n_keypoint_per_image\n",
    "\n",
    "        scenario_index = np.argwhere(self._n_sample_cumsum > img_index)[0][0]\n",
    "        scenario = self._scenarios[scenario_index]\n",
    "\n",
    "        index_in_scenario = img_index\n",
    "        if scenario_index != 0:\n",
    "            index_in_scenario -= self._n_sample_cumsum[scenario_index-1]\n",
    "\n",
    "        scenario_mask = self._dataset_index[\"scenario\"] == scenario\n",
    "        df = self._dataset_index[scenario_mask]\n",
    "        line = df.iloc[[index_in_scenario]]\n",
    "        \n",
    "        # Get features\n",
    "        sequence = line[\"sequence\"].values[0]\n",
    "        step = line[\"step\"].values[0]\n",
    "\n",
    "        features_folder = os.path.join(features_dataset_path,\n",
    "                               f\"Scenario{scenario}\",\n",
    "                               f\"sequence.{sequence}\")\n",
    "        \n",
    "        features = []\n",
    "        for name in [\"left\", \"right\", \"center\"]:\n",
    "            features_path = os.path.join(features_folder, \n",
    "                                        f\"step{step}.camera_{name}_heatmaps.npz\")\n",
    "            \n",
    "            camera_features = np.load(features_path)[\"img_heatmaps\"]\n",
    "            keypoint_features = camera_features[keypoint_index]\n",
    "            features.append(keypoint_features)\n",
    "        \n",
    "        features = np.array(features)\n",
    "\n",
    "        # Get target\n",
    "\n",
    "        keypoints_3d = df.iloc[[1]][\"keypoints_3d\"].values[0]\n",
    "        unity_keypoint_index = self._keypoint_indexes[keypoint_index]\n",
    "        keypoints_3d = keypoints_3d[unity_keypoint_index]   \n",
    "\n",
    "        return torch.tensor(features, dtype=torch.float32), torch.tensor(keypoints_3d, dtype=torch.float32)"
   ]
  },
  {
   "cell_type": "code",
   "execution_count": 10,
   "metadata": {},
   "outputs": [],
   "source": [
    "scenario0_dataset = SyntheticOAKDDataset(dataset_index, coco2unity, [0])"
   ]
  },
  {
   "cell_type": "code",
   "execution_count": 11,
   "metadata": {},
   "outputs": [],
   "source": [
    "train_dataset, validation_dataset = random_split(scenario0_dataset, [0.8, 0.2])"
   ]
  },
  {
   "cell_type": "code",
   "execution_count": 12,
   "metadata": {},
   "outputs": [
    {
     "data": {
      "text/plain": [
       "12"
      ]
     },
     "execution_count": 12,
     "metadata": {},
     "output_type": "execute_result"
    }
   ],
   "source": [
    "import multiprocessing as mp\n",
    "\n",
    "mp.cpu_count()"
   ]
  },
  {
   "cell_type": "code",
   "execution_count": 13,
   "metadata": {},
   "outputs": [],
   "source": [
    "loader = DataloaderWrapper(scenario0_dataset, 1, mp.cpu_count()-1, True).dataloader"
   ]
  },
  {
   "cell_type": "code",
   "execution_count": 14,
   "metadata": {},
   "outputs": [
    {
     "name": "stderr",
     "output_type": "stream",
     "text": [
      "  0%|          | 0/2000 [00:00<?, ?it/s]"
     ]
    }
   ],
   "source": [
    "import time\n",
    "\n",
    "start = time.time()\n",
    "\n",
    "for inputs, targets in tqdm.tqdm(loader):\n",
    "    pass\n",
    "\n",
    "end = time.time()"
   ]
  },
  {
   "cell_type": "markdown",
   "metadata": {},
   "source": [
    "## Model"
   ]
  },
  {
   "cell_type": "code",
   "execution_count": null,
   "metadata": {},
   "outputs": [],
   "source": []
  }
 ],
 "metadata": {
  "kernelspec": {
   "display_name": "Python 3",
   "language": "python",
   "name": "python3"
  },
  "language_info": {
   "codemirror_mode": {
    "name": "ipython",
    "version": 3
   },
   "file_extension": ".py",
   "mimetype": "text/x-python",
   "name": "python",
   "nbconvert_exporter": "python",
   "pygments_lexer": "ipython3",
   "version": "3.8.5"
  }
 },
 "nbformat": 4,
 "nbformat_minor": 2
}
